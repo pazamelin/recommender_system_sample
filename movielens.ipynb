{
  "cells": [
    {
      "cell_type": "code",
      "execution_count": 1,
      "metadata": {
        "id": "ciYUesUDtvz7"
      },
      "outputs": [],
      "source": [
        "import sys\n",
        "import subprocess\n",
        "import pkg_resources\n",
        "\n",
        "required = {'numpy', 'pandas', 'tensorflow', 'keras'}\n",
        "installed = {pkg.key for pkg in pkg_resources.working_set}\n",
        "missing = required - installed\n",
        "\n",
        "if missing:\n",
        "    python = sys.executable\n",
        "    subprocess.check_call([python, '-m', 'pip', 'install', *missing], stdout=subprocess.DEVNULL)"
      ]
    },
    {
      "cell_type": "code",
      "execution_count": 2,
      "metadata": {
        "id": "QXHtcQGBtv0F"
      },
      "outputs": [],
      "source": [
        "import tensorflow as tf\n",
        "import numpy as np\n",
        "import pandas as pd\n",
        "import subprocess"
      ]
    },
    {
      "cell_type": "markdown",
      "metadata": {
        "id": "Wm-f1YNJtv0G"
      },
      "source": [
        "## Import dataset"
      ]
    },
    {
      "cell_type": "markdown",
      "metadata": {
        "id": "wI57uBEGtv0J"
      },
      "source": [
        "hetrec2011-movielens-2k\n",
        "\n",
        "https://files.grouplens.org/datasets/hetrec2011/hetrec2011-movielens-readme.txt\n",
        "\n",
        "This dataset is an extension of MovieLens10M dataset, published by GroupLeans \n",
        "    research group.\n",
        "    http://www.grouplens.org \n",
        "\n",
        "- the original Movielens dataset from GroupLens research group, http://www.grouplens.org\n",
        "- IMDb website, http://www.imdb.com\n",
        "- Rotten Tomatoes website, http://www.rottentomatoes.com"
      ]
    },
    {
      "cell_type": "markdown",
      "metadata": {
        "id": "tpMBMFCA3CL3"
      },
      "source": [
        "### - download data"
      ]
    },
    {
      "cell_type": "code",
      "execution_count": 3,
      "metadata": {
        "colab": {
          "base_uri": "https://localhost:8080/"
        },
        "id": "6ovqdkJFtv0K",
        "outputId": "5df97e98-a7a0-4338-eac8-c21aa051cb41"
      },
      "outputs": [
        {
          "output_type": "stream",
          "name": "stdout",
          "text": [
            "hetrec2011-movielens-2k-v2.zip\t  movie_genres.dat\n",
            "hetrec2011-movielens-2k-v2.zip.1  movie_locations.dat\n",
            "hetrec2011-movielens-2k-v2.zip.2  movies.dat\n",
            "hetrec2011-movielens-2k-v2.zip.3  movie_tags.dat\n",
            "hetrec2011-movielens-2k-v2.zip.4  readme.txt\n",
            "hetrec2011-movielens-2k-v2.zip.5  sample_data\n",
            "hetrec2011-movielens-2k-v2.zip.6  tags.dat\n",
            "hetrec2011-movielens-2k-v2.zip.7  user_ratedmovies.dat\n",
            "movie_actors.dat\t\t  user_ratedmovies-timestamps.dat\n",
            "movie_countries.dat\t\t  user_taggedmovies.dat\n",
            "movie_directors.dat\t\t  user_taggedmovies-timestamps.dat\n"
          ]
        }
      ],
      "source": [
        "DATASET_URL = 'https://files.grouplens.org/datasets/hetrec2011/hetrec2011-movielens-2k-v2.zip'\n",
        "DATASET_PATH = './hetrec2011-movielens-2k-v2.zip'\n",
        "\n",
        "# download and extract the data\n",
        "subprocess.run(['wget', DATASET_URL])\n",
        "subprocess.run(['unzip', f'{DATASET_PATH}'])\n",
        "subprocess.run(['rm', 'hetrec2011-movielens-2k-v2.zip*'])\n",
        "!ls"
      ]
    },
    {
      "cell_type": "markdown",
      "source": [
        "### - open data"
      ],
      "metadata": {
        "id": "fzd9m4J_8n2x"
      }
    },
    {
      "cell_type": "code",
      "source": [
        "# read the dataframe\n",
        "dataset = pd.read_csv('user_ratedmovies.dat', sep = '\\t')\n",
        "dataset"
      ],
      "metadata": {
        "colab": {
          "base_uri": "https://localhost:8080/",
          "height": 419
        },
        "id": "BwbnhxVe8niP",
        "outputId": "3b151d6d-2e3d-40ff-9b42-67e6f61dac54"
      },
      "execution_count": 4,
      "outputs": [
        {
          "output_type": "execute_result",
          "data": {
            "text/html": [
              "\n",
              "  <div id=\"df-3acd8360-2c7c-44fd-807c-d02b57636c13\">\n",
              "    <div class=\"colab-df-container\">\n",
              "      <div>\n",
              "<style scoped>\n",
              "    .dataframe tbody tr th:only-of-type {\n",
              "        vertical-align: middle;\n",
              "    }\n",
              "\n",
              "    .dataframe tbody tr th {\n",
              "        vertical-align: top;\n",
              "    }\n",
              "\n",
              "    .dataframe thead th {\n",
              "        text-align: right;\n",
              "    }\n",
              "</style>\n",
              "<table border=\"1\" class=\"dataframe\">\n",
              "  <thead>\n",
              "    <tr style=\"text-align: right;\">\n",
              "      <th></th>\n",
              "      <th>userID</th>\n",
              "      <th>movieID</th>\n",
              "      <th>rating</th>\n",
              "      <th>date_day</th>\n",
              "      <th>date_month</th>\n",
              "      <th>date_year</th>\n",
              "      <th>date_hour</th>\n",
              "      <th>date_minute</th>\n",
              "      <th>date_second</th>\n",
              "    </tr>\n",
              "  </thead>\n",
              "  <tbody>\n",
              "    <tr>\n",
              "      <th>0</th>\n",
              "      <td>75</td>\n",
              "      <td>3</td>\n",
              "      <td>1.0</td>\n",
              "      <td>29</td>\n",
              "      <td>10</td>\n",
              "      <td>2006</td>\n",
              "      <td>23</td>\n",
              "      <td>17</td>\n",
              "      <td>16</td>\n",
              "    </tr>\n",
              "    <tr>\n",
              "      <th>1</th>\n",
              "      <td>75</td>\n",
              "      <td>32</td>\n",
              "      <td>4.5</td>\n",
              "      <td>29</td>\n",
              "      <td>10</td>\n",
              "      <td>2006</td>\n",
              "      <td>23</td>\n",
              "      <td>23</td>\n",
              "      <td>44</td>\n",
              "    </tr>\n",
              "    <tr>\n",
              "      <th>2</th>\n",
              "      <td>75</td>\n",
              "      <td>110</td>\n",
              "      <td>4.0</td>\n",
              "      <td>29</td>\n",
              "      <td>10</td>\n",
              "      <td>2006</td>\n",
              "      <td>23</td>\n",
              "      <td>30</td>\n",
              "      <td>8</td>\n",
              "    </tr>\n",
              "    <tr>\n",
              "      <th>3</th>\n",
              "      <td>75</td>\n",
              "      <td>160</td>\n",
              "      <td>2.0</td>\n",
              "      <td>29</td>\n",
              "      <td>10</td>\n",
              "      <td>2006</td>\n",
              "      <td>23</td>\n",
              "      <td>16</td>\n",
              "      <td>52</td>\n",
              "    </tr>\n",
              "    <tr>\n",
              "      <th>4</th>\n",
              "      <td>75</td>\n",
              "      <td>163</td>\n",
              "      <td>4.0</td>\n",
              "      <td>29</td>\n",
              "      <td>10</td>\n",
              "      <td>2006</td>\n",
              "      <td>23</td>\n",
              "      <td>29</td>\n",
              "      <td>30</td>\n",
              "    </tr>\n",
              "    <tr>\n",
              "      <th>...</th>\n",
              "      <td>...</td>\n",
              "      <td>...</td>\n",
              "      <td>...</td>\n",
              "      <td>...</td>\n",
              "      <td>...</td>\n",
              "      <td>...</td>\n",
              "      <td>...</td>\n",
              "      <td>...</td>\n",
              "      <td>...</td>\n",
              "    </tr>\n",
              "    <tr>\n",
              "      <th>855593</th>\n",
              "      <td>71534</td>\n",
              "      <td>44555</td>\n",
              "      <td>4.0</td>\n",
              "      <td>3</td>\n",
              "      <td>12</td>\n",
              "      <td>2007</td>\n",
              "      <td>3</td>\n",
              "      <td>5</td>\n",
              "      <td>38</td>\n",
              "    </tr>\n",
              "    <tr>\n",
              "      <th>855594</th>\n",
              "      <td>71534</td>\n",
              "      <td>46578</td>\n",
              "      <td>4.0</td>\n",
              "      <td>3</td>\n",
              "      <td>12</td>\n",
              "      <td>2007</td>\n",
              "      <td>2</td>\n",
              "      <td>56</td>\n",
              "      <td>44</td>\n",
              "    </tr>\n",
              "    <tr>\n",
              "      <th>855595</th>\n",
              "      <td>71534</td>\n",
              "      <td>48516</td>\n",
              "      <td>4.5</td>\n",
              "      <td>3</td>\n",
              "      <td>12</td>\n",
              "      <td>2007</td>\n",
              "      <td>2</td>\n",
              "      <td>53</td>\n",
              "      <td>46</td>\n",
              "    </tr>\n",
              "    <tr>\n",
              "      <th>855596</th>\n",
              "      <td>71534</td>\n",
              "      <td>61075</td>\n",
              "      <td>5.0</td>\n",
              "      <td>10</td>\n",
              "      <td>10</td>\n",
              "      <td>2008</td>\n",
              "      <td>9</td>\n",
              "      <td>56</td>\n",
              "      <td>5</td>\n",
              "    </tr>\n",
              "    <tr>\n",
              "      <th>855597</th>\n",
              "      <td>71534</td>\n",
              "      <td>62049</td>\n",
              "      <td>4.5</td>\n",
              "      <td>10</td>\n",
              "      <td>10</td>\n",
              "      <td>2008</td>\n",
              "      <td>9</td>\n",
              "      <td>58</td>\n",
              "      <td>10</td>\n",
              "    </tr>\n",
              "  </tbody>\n",
              "</table>\n",
              "<p>855598 rows × 9 columns</p>\n",
              "</div>\n",
              "      <button class=\"colab-df-convert\" onclick=\"convertToInteractive('df-3acd8360-2c7c-44fd-807c-d02b57636c13')\"\n",
              "              title=\"Convert this dataframe to an interactive table.\"\n",
              "              style=\"display:none;\">\n",
              "        \n",
              "  <svg xmlns=\"http://www.w3.org/2000/svg\" height=\"24px\"viewBox=\"0 0 24 24\"\n",
              "       width=\"24px\">\n",
              "    <path d=\"M0 0h24v24H0V0z\" fill=\"none\"/>\n",
              "    <path d=\"M18.56 5.44l.94 2.06.94-2.06 2.06-.94-2.06-.94-.94-2.06-.94 2.06-2.06.94zm-11 1L8.5 8.5l.94-2.06 2.06-.94-2.06-.94L8.5 2.5l-.94 2.06-2.06.94zm10 10l.94 2.06.94-2.06 2.06-.94-2.06-.94-.94-2.06-.94 2.06-2.06.94z\"/><path d=\"M17.41 7.96l-1.37-1.37c-.4-.4-.92-.59-1.43-.59-.52 0-1.04.2-1.43.59L10.3 9.45l-7.72 7.72c-.78.78-.78 2.05 0 2.83L4 21.41c.39.39.9.59 1.41.59.51 0 1.02-.2 1.41-.59l7.78-7.78 2.81-2.81c.8-.78.8-2.07 0-2.86zM5.41 20L4 18.59l7.72-7.72 1.47 1.35L5.41 20z\"/>\n",
              "  </svg>\n",
              "      </button>\n",
              "      \n",
              "  <style>\n",
              "    .colab-df-container {\n",
              "      display:flex;\n",
              "      flex-wrap:wrap;\n",
              "      gap: 12px;\n",
              "    }\n",
              "\n",
              "    .colab-df-convert {\n",
              "      background-color: #E8F0FE;\n",
              "      border: none;\n",
              "      border-radius: 50%;\n",
              "      cursor: pointer;\n",
              "      display: none;\n",
              "      fill: #1967D2;\n",
              "      height: 32px;\n",
              "      padding: 0 0 0 0;\n",
              "      width: 32px;\n",
              "    }\n",
              "\n",
              "    .colab-df-convert:hover {\n",
              "      background-color: #E2EBFA;\n",
              "      box-shadow: 0px 1px 2px rgba(60, 64, 67, 0.3), 0px 1px 3px 1px rgba(60, 64, 67, 0.15);\n",
              "      fill: #174EA6;\n",
              "    }\n",
              "\n",
              "    [theme=dark] .colab-df-convert {\n",
              "      background-color: #3B4455;\n",
              "      fill: #D2E3FC;\n",
              "    }\n",
              "\n",
              "    [theme=dark] .colab-df-convert:hover {\n",
              "      background-color: #434B5C;\n",
              "      box-shadow: 0px 1px 3px 1px rgba(0, 0, 0, 0.15);\n",
              "      filter: drop-shadow(0px 1px 2px rgba(0, 0, 0, 0.3));\n",
              "      fill: #FFFFFF;\n",
              "    }\n",
              "  </style>\n",
              "\n",
              "      <script>\n",
              "        const buttonEl =\n",
              "          document.querySelector('#df-3acd8360-2c7c-44fd-807c-d02b57636c13 button.colab-df-convert');\n",
              "        buttonEl.style.display =\n",
              "          google.colab.kernel.accessAllowed ? 'block' : 'none';\n",
              "\n",
              "        async function convertToInteractive(key) {\n",
              "          const element = document.querySelector('#df-3acd8360-2c7c-44fd-807c-d02b57636c13');\n",
              "          const dataTable =\n",
              "            await google.colab.kernel.invokeFunction('convertToInteractive',\n",
              "                                                     [key], {});\n",
              "          if (!dataTable) return;\n",
              "\n",
              "          const docLinkHtml = 'Like what you see? Visit the ' +\n",
              "            '<a target=\"_blank\" href=https://colab.research.google.com/notebooks/data_table.ipynb>data table notebook</a>'\n",
              "            + ' to learn more about interactive tables.';\n",
              "          element.innerHTML = '';\n",
              "          dataTable['output_type'] = 'display_data';\n",
              "          await google.colab.output.renderOutput(dataTable, element);\n",
              "          const docLink = document.createElement('div');\n",
              "          docLink.innerHTML = docLinkHtml;\n",
              "          element.appendChild(docLink);\n",
              "        }\n",
              "      </script>\n",
              "    </div>\n",
              "  </div>\n",
              "  "
            ],
            "text/plain": [
              "        userID  movieID  rating  ...  date_hour  date_minute  date_second\n",
              "0           75        3     1.0  ...         23           17           16\n",
              "1           75       32     4.5  ...         23           23           44\n",
              "2           75      110     4.0  ...         23           30            8\n",
              "3           75      160     2.0  ...         23           16           52\n",
              "4           75      163     4.0  ...         23           29           30\n",
              "...        ...      ...     ...  ...        ...          ...          ...\n",
              "855593   71534    44555     4.0  ...          3            5           38\n",
              "855594   71534    46578     4.0  ...          2           56           44\n",
              "855595   71534    48516     4.5  ...          2           53           46\n",
              "855596   71534    61075     5.0  ...          9           56            5\n",
              "855597   71534    62049     4.5  ...          9           58           10\n",
              "\n",
              "[855598 rows x 9 columns]"
            ]
          },
          "metadata": {},
          "execution_count": 4
        }
      ]
    },
    {
      "cell_type": "markdown",
      "metadata": {
        "id": "hYIxH6gA3HrO"
      },
      "source": [
        "### - apply preprocessing "
      ]
    },
    {
      "cell_type": "code",
      "execution_count": 5,
      "metadata": {
        "id": "r0bH18xS4azM",
        "colab": {
          "base_uri": "https://localhost:8080/",
          "height": 419
        },
        "outputId": "4d6a75f0-82da-47c1-df45-9cae2f56c57c"
      },
      "outputs": [
        {
          "output_type": "execute_result",
          "data": {
            "text/html": [
              "\n",
              "  <div id=\"df-1554c022-a7be-46ff-b680-274d8451b2df\">\n",
              "    <div class=\"colab-df-container\">\n",
              "      <div>\n",
              "<style scoped>\n",
              "    .dataframe tbody tr th:only-of-type {\n",
              "        vertical-align: middle;\n",
              "    }\n",
              "\n",
              "    .dataframe tbody tr th {\n",
              "        vertical-align: top;\n",
              "    }\n",
              "\n",
              "    .dataframe thead th {\n",
              "        text-align: right;\n",
              "    }\n",
              "</style>\n",
              "<table border=\"1\" class=\"dataframe\">\n",
              "  <thead>\n",
              "    <tr style=\"text-align: right;\">\n",
              "      <th></th>\n",
              "      <th>userID</th>\n",
              "      <th>movieID</th>\n",
              "      <th>rating</th>\n",
              "      <th>date_day</th>\n",
              "      <th>date_year</th>\n",
              "    </tr>\n",
              "  </thead>\n",
              "  <tbody>\n",
              "    <tr>\n",
              "      <th>0</th>\n",
              "      <td>0</td>\n",
              "      <td>0</td>\n",
              "      <td>1.0</td>\n",
              "      <td>29</td>\n",
              "      <td>2006</td>\n",
              "    </tr>\n",
              "    <tr>\n",
              "      <th>1</th>\n",
              "      <td>0</td>\n",
              "      <td>1</td>\n",
              "      <td>4.5</td>\n",
              "      <td>29</td>\n",
              "      <td>2006</td>\n",
              "    </tr>\n",
              "    <tr>\n",
              "      <th>2</th>\n",
              "      <td>0</td>\n",
              "      <td>2</td>\n",
              "      <td>4.0</td>\n",
              "      <td>29</td>\n",
              "      <td>2006</td>\n",
              "    </tr>\n",
              "    <tr>\n",
              "      <th>3</th>\n",
              "      <td>0</td>\n",
              "      <td>3</td>\n",
              "      <td>2.0</td>\n",
              "      <td>29</td>\n",
              "      <td>2006</td>\n",
              "    </tr>\n",
              "    <tr>\n",
              "      <th>4</th>\n",
              "      <td>0</td>\n",
              "      <td>4</td>\n",
              "      <td>4.0</td>\n",
              "      <td>29</td>\n",
              "      <td>2006</td>\n",
              "    </tr>\n",
              "    <tr>\n",
              "      <th>...</th>\n",
              "      <td>...</td>\n",
              "      <td>...</td>\n",
              "      <td>...</td>\n",
              "      <td>...</td>\n",
              "      <td>...</td>\n",
              "    </tr>\n",
              "    <tr>\n",
              "      <th>855593</th>\n",
              "      <td>2112</td>\n",
              "      <td>1068</td>\n",
              "      <td>4.0</td>\n",
              "      <td>3</td>\n",
              "      <td>2007</td>\n",
              "    </tr>\n",
              "    <tr>\n",
              "      <th>855594</th>\n",
              "      <td>2112</td>\n",
              "      <td>504</td>\n",
              "      <td>4.0</td>\n",
              "      <td>3</td>\n",
              "      <td>2007</td>\n",
              "    </tr>\n",
              "    <tr>\n",
              "      <th>855595</th>\n",
              "      <td>2112</td>\n",
              "      <td>1196</td>\n",
              "      <td>4.5</td>\n",
              "      <td>3</td>\n",
              "      <td>2007</td>\n",
              "    </tr>\n",
              "    <tr>\n",
              "      <th>855596</th>\n",
              "      <td>2112</td>\n",
              "      <td>7487</td>\n",
              "      <td>5.0</td>\n",
              "      <td>10</td>\n",
              "      <td>2008</td>\n",
              "    </tr>\n",
              "    <tr>\n",
              "      <th>855597</th>\n",
              "      <td>2112</td>\n",
              "      <td>4619</td>\n",
              "      <td>4.5</td>\n",
              "      <td>10</td>\n",
              "      <td>2008</td>\n",
              "    </tr>\n",
              "  </tbody>\n",
              "</table>\n",
              "<p>855598 rows × 5 columns</p>\n",
              "</div>\n",
              "      <button class=\"colab-df-convert\" onclick=\"convertToInteractive('df-1554c022-a7be-46ff-b680-274d8451b2df')\"\n",
              "              title=\"Convert this dataframe to an interactive table.\"\n",
              "              style=\"display:none;\">\n",
              "        \n",
              "  <svg xmlns=\"http://www.w3.org/2000/svg\" height=\"24px\"viewBox=\"0 0 24 24\"\n",
              "       width=\"24px\">\n",
              "    <path d=\"M0 0h24v24H0V0z\" fill=\"none\"/>\n",
              "    <path d=\"M18.56 5.44l.94 2.06.94-2.06 2.06-.94-2.06-.94-.94-2.06-.94 2.06-2.06.94zm-11 1L8.5 8.5l.94-2.06 2.06-.94-2.06-.94L8.5 2.5l-.94 2.06-2.06.94zm10 10l.94 2.06.94-2.06 2.06-.94-2.06-.94-.94-2.06-.94 2.06-2.06.94z\"/><path d=\"M17.41 7.96l-1.37-1.37c-.4-.4-.92-.59-1.43-.59-.52 0-1.04.2-1.43.59L10.3 9.45l-7.72 7.72c-.78.78-.78 2.05 0 2.83L4 21.41c.39.39.9.59 1.41.59.51 0 1.02-.2 1.41-.59l7.78-7.78 2.81-2.81c.8-.78.8-2.07 0-2.86zM5.41 20L4 18.59l7.72-7.72 1.47 1.35L5.41 20z\"/>\n",
              "  </svg>\n",
              "      </button>\n",
              "      \n",
              "  <style>\n",
              "    .colab-df-container {\n",
              "      display:flex;\n",
              "      flex-wrap:wrap;\n",
              "      gap: 12px;\n",
              "    }\n",
              "\n",
              "    .colab-df-convert {\n",
              "      background-color: #E8F0FE;\n",
              "      border: none;\n",
              "      border-radius: 50%;\n",
              "      cursor: pointer;\n",
              "      display: none;\n",
              "      fill: #1967D2;\n",
              "      height: 32px;\n",
              "      padding: 0 0 0 0;\n",
              "      width: 32px;\n",
              "    }\n",
              "\n",
              "    .colab-df-convert:hover {\n",
              "      background-color: #E2EBFA;\n",
              "      box-shadow: 0px 1px 2px rgba(60, 64, 67, 0.3), 0px 1px 3px 1px rgba(60, 64, 67, 0.15);\n",
              "      fill: #174EA6;\n",
              "    }\n",
              "\n",
              "    [theme=dark] .colab-df-convert {\n",
              "      background-color: #3B4455;\n",
              "      fill: #D2E3FC;\n",
              "    }\n",
              "\n",
              "    [theme=dark] .colab-df-convert:hover {\n",
              "      background-color: #434B5C;\n",
              "      box-shadow: 0px 1px 3px 1px rgba(0, 0, 0, 0.15);\n",
              "      filter: drop-shadow(0px 1px 2px rgba(0, 0, 0, 0.3));\n",
              "      fill: #FFFFFF;\n",
              "    }\n",
              "  </style>\n",
              "\n",
              "      <script>\n",
              "        const buttonEl =\n",
              "          document.querySelector('#df-1554c022-a7be-46ff-b680-274d8451b2df button.colab-df-convert');\n",
              "        buttonEl.style.display =\n",
              "          google.colab.kernel.accessAllowed ? 'block' : 'none';\n",
              "\n",
              "        async function convertToInteractive(key) {\n",
              "          const element = document.querySelector('#df-1554c022-a7be-46ff-b680-274d8451b2df');\n",
              "          const dataTable =\n",
              "            await google.colab.kernel.invokeFunction('convertToInteractive',\n",
              "                                                     [key], {});\n",
              "          if (!dataTable) return;\n",
              "\n",
              "          const docLinkHtml = 'Like what you see? Visit the ' +\n",
              "            '<a target=\"_blank\" href=https://colab.research.google.com/notebooks/data_table.ipynb>data table notebook</a>'\n",
              "            + ' to learn more about interactive tables.';\n",
              "          element.innerHTML = '';\n",
              "          dataTable['output_type'] = 'display_data';\n",
              "          await google.colab.output.renderOutput(dataTable, element);\n",
              "          const docLink = document.createElement('div');\n",
              "          docLink.innerHTML = docLinkHtml;\n",
              "          element.appendChild(docLink);\n",
              "        }\n",
              "      </script>\n",
              "    </div>\n",
              "  </div>\n",
              "  "
            ],
            "text/plain": [
              "        userID  movieID  rating  date_day  date_year\n",
              "0            0        0     1.0        29       2006\n",
              "1            0        1     4.5        29       2006\n",
              "2            0        2     4.0        29       2006\n",
              "3            0        3     2.0        29       2006\n",
              "4            0        4     4.0        29       2006\n",
              "...        ...      ...     ...       ...        ...\n",
              "855593    2112     1068     4.0         3       2007\n",
              "855594    2112      504     4.0         3       2007\n",
              "855595    2112     1196     4.5         3       2007\n",
              "855596    2112     7487     5.0        10       2008\n",
              "855597    2112     4619     4.5        10       2008\n",
              "\n",
              "[855598 rows x 5 columns]"
            ]
          },
          "metadata": {},
          "execution_count": 5
        }
      ],
      "source": [
        "# drop redundant columns\n",
        "columns_to_drop = ['date_month', 'date_hour',\t'date_minute', 'date_second']\n",
        "dataset = dataset.drop(columns_to_drop, axis = 1)\n",
        "\n",
        "# remap userID\n",
        "userIDs = dataset.userID.unique()\n",
        "userIDs_dict = dict(zip(userIDs, range(len(userIDs))))\n",
        "dataset['userID'] = dataset['userID'].replace(userIDs_dict)\n",
        "\n",
        "# remap movieID\n",
        "movieIDs = dataset.movieID.unique()\n",
        "movieIDs_dict = dict(zip(movieIDs, range(len(movieIDs))))\n",
        "dataset['movieID'] = dataset['movieID'].replace(movieIDs_dict)\n",
        "\n",
        "dataset"
      ]
    },
    {
      "cell_type": "markdown",
      "metadata": {
        "id": "RrTdrtPZ4_b5"
      },
      "source": [
        "## Movie Recommendations NN  "
      ]
    },
    {
      "cell_type": "markdown",
      "source": [
        "### - train, test split "
      ],
      "metadata": {
        "id": "E-O24ESR9sxY"
      }
    },
    {
      "cell_type": "code",
      "execution_count": 6,
      "metadata": {
        "id": "eLdnV6zVawSO"
      },
      "outputs": [],
      "source": [
        "from sklearn.model_selection import train_test_split\n",
        "\n",
        "train, test = train_test_split(dataset, test_size=0.2, random_state=1)"
      ]
    },
    {
      "cell_type": "markdown",
      "source": [
        "### - define the model"
      ],
      "metadata": {
        "id": "bdt90YtB9uLg"
      }
    },
    {
      "cell_type": "code",
      "source": [
        "from keras.layers import Input, Embedding, Flatten, Dot, Dense, Concatenate\n",
        "from keras.models import Model\n",
        "\n",
        "n_users = len(dataset.userID.unique())\n",
        "n_movies = len(dataset.movieID.unique())\n",
        "\n",
        "movie_input = Input(shape=[1], name=\"Movie-Input\")\n",
        "movie_embedding = Embedding(n_movies+1, 5, name=\"Movie-Embedding\")(movie_input)\n",
        "movie_vec = Flatten(name=\"Flatten-Movies\")(movie_embedding)\n",
        "\n",
        "user_input = Input(shape=[1], name=\"User-Input\")\n",
        "user_embedding = Embedding(n_users+1, 5, name=\"User-Embedding\")(user_input)\n",
        "user_vec = Flatten(name=\"Flatten-Users\")(user_embedding)\n",
        "\n",
        "prod = Dot(name=\"Dot-Product\", axes=1)([movie_vec, user_vec])\n",
        "model = Model([user_input, movie_input], prod)\n",
        "model.compile('adam', 'mean_squared_error')\n"
      ],
      "metadata": {
        "id": "fJWBQG_Z9tNw"
      },
      "execution_count": 7,
      "outputs": []
    },
    {
      "cell_type": "markdown",
      "source": [
        "### - train the model"
      ],
      "metadata": {
        "id": "-AXRLThD_WpY"
      }
    },
    {
      "cell_type": "code",
      "source": [
        "history = model.fit([train.userID, train.movieID], train.rating, epochs=10, verbose=1)"
      ],
      "metadata": {
        "colab": {
          "base_uri": "https://localhost:8080/"
        },
        "id": "r0vDWb4q_ShV",
        "outputId": "8bd705fb-b092-400d-f795-48c0d070f988"
      },
      "execution_count": 9,
      "outputs": [
        {
          "output_type": "stream",
          "name": "stdout",
          "text": [
            "Epoch 1/10\n",
            "21390/21390 [==============================] - 38s 2ms/step - loss: 4.2143\n",
            "Epoch 2/10\n",
            "21390/21390 [==============================] - 37s 2ms/step - loss: 0.8530\n",
            "Epoch 3/10\n",
            "21390/21390 [==============================] - 37s 2ms/step - loss: 0.7333\n",
            "Epoch 4/10\n",
            "21390/21390 [==============================] - 37s 2ms/step - loss: 0.7031\n",
            "Epoch 5/10\n",
            "21390/21390 [==============================] - 37s 2ms/step - loss: 0.6879\n",
            "Epoch 6/10\n",
            "21390/21390 [==============================] - 42s 2ms/step - loss: 0.6721\n",
            "Epoch 7/10\n",
            "21390/21390 [==============================] - 41s 2ms/step - loss: 0.6525\n",
            "Epoch 8/10\n",
            "21390/21390 [==============================] - 37s 2ms/step - loss: 0.6344\n",
            "Epoch 9/10\n",
            "21390/21390 [==============================] - 37s 2ms/step - loss: 0.6190\n",
            "Epoch 10/10\n",
            "21390/21390 [==============================] - 37s 2ms/step - loss: 0.6057\n"
          ]
        }
      ]
    },
    {
      "cell_type": "markdown",
      "source": [
        "### - make predictions"
      ],
      "metadata": {
        "id": "oiMtLkfQF_Br"
      }
    },
    {
      "cell_type": "code",
      "source": [
        "movie_data = np.array(list(set(dataset.movieID)))\n",
        "user = np.array([1 for i in range(len(movie_data))])\n",
        "predictions = model.predict([user, movie_data])\n",
        "predictions = np.array([a[0] for a in predictions])\n",
        "recommended_movie_ids = (-predictions).argsort()[:5]\n",
        "print(recommended_movie_ids)\n",
        "print(predictions[recommended_movie_ids])"
      ],
      "metadata": {
        "colab": {
          "base_uri": "https://localhost:8080/"
        },
        "id": "3G069X1yGAoB",
        "outputId": "4ba768b1-bf9d-48b8-ad9a-fc85423bb418"
      },
      "execution_count": 11,
      "outputs": [
        {
          "output_type": "stream",
          "name": "stdout",
          "text": [
            "[8137 9105 6261 6090 7839]\n",
            "[5.185059  5.135773  5.111074  5.069954  5.0625067]\n"
          ]
        }
      ]
    }
  ],
  "metadata": {
    "colab": {
      "name": "clothing_fit.ipynb",
      "provenance": []
    },
    "kernelspec": {
      "display_name": "Python 3",
      "language": "python",
      "name": "python3"
    },
    "language_info": {
      "codemirror_mode": {
        "name": "ipython",
        "version": 3
      },
      "file_extension": ".py",
      "mimetype": "text/x-python",
      "name": "python",
      "nbconvert_exporter": "python",
      "pygments_lexer": "ipython3",
      "version": "3.8.10"
    }
  },
  "nbformat": 4,
  "nbformat_minor": 0
}